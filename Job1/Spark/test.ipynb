{
 "cells": [
  {
   "cell_type": "code",
   "execution_count": 2,
   "metadata": {},
   "outputs": [],
   "source": [
    "from pyspark.sql import SparkSession"
   ]
  },
  {
   "cell_type": "code",
   "execution_count": 3,
   "metadata": {},
   "outputs": [
    {
     "name": "stderr",
     "output_type": "stream",
     "text": [
      "Setting default log level to \"WARN\".\n",
      "To adjust logging level use sc.setLogLevel(newLevel). For SparkR, use setLogLevel(newLevel).\n",
      "23/05/17 16:46:53 WARN NativeCodeLoader: Unable to load native-hadoop library for your platform... using builtin-java classes where applicable\n"
     ]
    }
   ],
   "source": [
    "spark = SparkSession.builder.getOrCreate()\n",
    "sc = spark.sparkContext"
   ]
  },
  {
   "attachments": {},
   "cell_type": "markdown",
   "metadata": {},
   "source": [
    "# Job1"
   ]
  },
  {
   "cell_type": "code",
   "execution_count": 165,
   "metadata": {},
   "outputs": [
    {
     "data": {
      "text/plain": [
       "[(('1999', 'Z'), 'ciao'),\n",
       " (('2000', 'SB'), 'r'),\n",
       " (('1999', 'Z'), 'ciao'),\n",
       " (('1999', 'Z'), 'aaaa'),\n",
       " (('1999', 'A'), 'ciao'),\n",
       " (('2000', 'A'), 'miao'),\n",
       " (('1999', 'BB'), 'miao'),\n",
       " (('2000', 'A'), 'miao'),\n",
       " (('2000', 'A'), 'ciao'),\n",
       " (('2000', 'A'), 'ciao')]"
      ]
     },
     "execution_count": 165,
     "metadata": {},
     "output_type": "execute_result"
    }
   ],
   "source": [
    "rdp = sc.parallelize([((\"1999\", \"Z\"), \"ciao\"), ((\"2000\", \"SB\"), \"r\"), ((\"1999\",\"Z\"), \"ciao\"), ((\"1999\",\"Z\"), \"aaaa\"), ((\"1999\",\"A\"), \"ciao\"), ((\"2000\", \"A\"), \"miao\"), ((\"1999\", \"BB\"), \"miao\"), ((\"2000\", \"A\"), \"miao\"), ((\"2000\", \"A\"), \"ciao\"), ((\"2000\", \"A\"), \"ciao\")])\n",
    "rdp.collect()"
   ]
  },
  {
   "cell_type": "code",
   "execution_count": 166,
   "metadata": {},
   "outputs": [
    {
     "data": {
      "text/plain": [
       "[(('1999', 'Z'), 3),\n",
       " (('2000', 'SB'), 1),\n",
       " (('1999', 'A'), 1),\n",
       " (('2000', 'A'), 4),\n",
       " (('1999', 'BB'), 1)]"
      ]
     },
     "execution_count": 166,
     "metadata": {},
     "output_type": "execute_result"
    }
   ],
   "source": [
    "list(rdp.countByKey().items())"
   ]
  },
  {
   "cell_type": "code",
   "execution_count": 167,
   "metadata": {},
   "outputs": [],
   "source": [
    "u2 = sc.parallelize(list(rdp.countByKey().items()))"
   ]
  },
  {
   "cell_type": "code",
   "execution_count": 168,
   "metadata": {},
   "outputs": [
    {
     "data": {
      "text/plain": [
       "[(('1999', 'A'), ('ciao', 1)),\n",
       " (('2000', 'A'), ('miao', 4)),\n",
       " (('2000', 'A'), ('miao', 4)),\n",
       " (('2000', 'A'), ('ciao', 4)),\n",
       " (('2000', 'A'), ('ciao', 4)),\n",
       " (('1999', 'BB'), ('miao', 1)),\n",
       " (('1999', 'Z'), ('ciao', 3)),\n",
       " (('1999', 'Z'), ('ciao', 3)),\n",
       " (('1999', 'Z'), ('aaaa', 3)),\n",
       " (('2000', 'SB'), ('r', 1))]"
      ]
     },
     "execution_count": 168,
     "metadata": {},
     "output_type": "execute_result"
    }
   ],
   "source": [
    "rdp_joined = rdp.join(u2)\n",
    "rdp_joined.collect()"
   ]
  },
  {
   "cell_type": "code",
   "execution_count": 169,
   "metadata": {},
   "outputs": [],
   "source": [
    "out = rdp_joined.reduceByKey(lambda x,y: (x[0]+\" \"+y[0],x[1]))"
   ]
  },
  {
   "cell_type": "code",
   "execution_count": 170,
   "metadata": {},
   "outputs": [
    {
     "data": {
      "text/plain": [
       "[(('1999', 'A'), ('ciao', 1)),\n",
       " (('2000', 'A'), ('miao miao ciao ciao', 4)),\n",
       " (('1999', 'BB'), ('miao', 1)),\n",
       " (('1999', 'Z'), ('ciao ciao aaaa', 3)),\n",
       " (('2000', 'SB'), ('r', 1))]"
      ]
     },
     "execution_count": 170,
     "metadata": {},
     "output_type": "execute_result"
    }
   ],
   "source": [
    "out.collect()"
   ]
  },
  {
   "cell_type": "code",
   "execution_count": 171,
   "metadata": {},
   "outputs": [],
   "source": [
    "out_to_sort = out.map(lambda x: (x[0][0],(x[0][1], x[1][1], x[1][0])))"
   ]
  },
  {
   "cell_type": "code",
   "execution_count": 172,
   "metadata": {},
   "outputs": [
    {
     "data": {
      "text/plain": [
       "[('1999', ('A', 1, 'ciao')),\n",
       " ('2000', ('A', 4, 'miao miao ciao ciao')),\n",
       " ('1999', ('BB', 1, 'miao')),\n",
       " ('1999', ('Z', 3, 'ciao ciao aaaa')),\n",
       " ('2000', ('SB', 1, 'r'))]"
      ]
     },
     "execution_count": 172,
     "metadata": {},
     "output_type": "execute_result"
    }
   ],
   "source": [
    "out_to_sort.collect()"
   ]
  },
  {
   "cell_type": "code",
   "execution_count": 178,
   "metadata": {},
   "outputs": [],
   "source": [
    "out_sorted = out_to_sort.groupByKey().mapValues(lambda x: sorted(x, key=lambda y: y[1], reverse=True)[:2])"
   ]
  },
  {
   "cell_type": "code",
   "execution_count": 179,
   "metadata": {},
   "outputs": [
    {
     "data": {
      "text/plain": [
       "[('2000', [('A', 4, 'miao miao ciao ciao'), ('SB', 1, 'r')]),\n",
       " ('1999', [('Z', 3, 'ciao ciao aaaa'), ('A', 1, 'ciao')])]"
      ]
     },
     "execution_count": 179,
     "metadata": {},
     "output_type": "execute_result"
    }
   ],
   "source": [
    "out_sorted.collect()"
   ]
  },
  {
   "cell_type": "code",
   "execution_count": 190,
   "metadata": {},
   "outputs": [],
   "source": [
    "def a(line):\n",
    "    out = []\n",
    "    for tupla in line[1]:\n",
    "        for word in tupla[2].split():\n",
    "            if(len(word) >= 4):\n",
    "                out.append(((line[0],tupla[0]),word))\n",
    "    return out\n",
    "\n",
    "out_word = out_sorted.flatMap(a)"
   ]
  },
  {
   "cell_type": "code",
   "execution_count": 191,
   "metadata": {},
   "outputs": [
    {
     "data": {
      "text/plain": [
       "[(('2000', 'A'), 'miao'),\n",
       " (('2000', 'A'), 'miao'),\n",
       " (('2000', 'A'), 'ciao'),\n",
       " (('2000', 'A'), 'ciao'),\n",
       " (('1999', 'Z'), 'ciao'),\n",
       " (('1999', 'Z'), 'ciao'),\n",
       " (('1999', 'Z'), 'aaaa'),\n",
       " (('1999', 'A'), 'ciao')]"
      ]
     },
     "execution_count": 191,
     "metadata": {},
     "output_type": "execute_result"
    }
   ],
   "source": [
    "out_word.collect()"
   ]
  },
  {
   "cell_type": "code",
   "execution_count": 200,
   "metadata": {},
   "outputs": [
    {
     "data": {
      "text/plain": [
       "[((('2000', 'A'), 'miao'), 2),\n",
       " ((('2000', 'A'), 'ciao'), 2),\n",
       " ((('1999', 'Z'), 'ciao'), 2),\n",
       " ((('1999', 'Z'), 'aaaa'), 1),\n",
       " ((('1999', 'A'), 'ciao'), 1)]"
      ]
     },
     "execution_count": 200,
     "metadata": {},
     "output_type": "execute_result"
    }
   ],
   "source": [
    "out_word_counted = list(out_word.countByValue().items())\n",
    "out_word_counted"
   ]
  },
  {
   "cell_type": "code",
   "execution_count": 202,
   "metadata": {},
   "outputs": [
    {
     "data": {
      "text/plain": [
       "[((('2000', 'A'), 'miao'), 2),\n",
       " ((('2000', 'A'), 'ciao'), 2),\n",
       " ((('1999', 'Z'), 'ciao'), 2),\n",
       " ((('1999', 'Z'), 'aaaa'), 1),\n",
       " ((('1999', 'A'), 'ciao'), 1)]"
      ]
     },
     "execution_count": 202,
     "metadata": {},
     "output_type": "execute_result"
    }
   ],
   "source": [
    "out_word_counted_rdd = sc.parallelize(out_word_counted)\n",
    "out_word_counted_rdd.collect()"
   ]
  },
  {
   "cell_type": "code",
   "execution_count": 205,
   "metadata": {},
   "outputs": [
    {
     "data": {
      "text/plain": [
       "[(('2000', 'A'), ('miao', 2)),\n",
       " (('2000', 'A'), ('ciao', 2)),\n",
       " (('1999', 'Z'), ('ciao', 2)),\n",
       " (('1999', 'Z'), ('aaaa', 1)),\n",
       " (('1999', 'A'), ('ciao', 1))]"
      ]
     },
     "execution_count": 205,
     "metadata": {},
     "output_type": "execute_result"
    }
   ],
   "source": [
    "final_out_to_order = out_word_counted_rdd.map(lambda x: (x[0][0],(x[0][1],x[1])))\n",
    "final_out_to_order.collect()"
   ]
  },
  {
   "cell_type": "code",
   "execution_count": 214,
   "metadata": {},
   "outputs": [
    {
     "data": {
      "text/plain": [
       "[(('1999', 'A'), [('ciao', 1)]),\n",
       " (('2000', 'A'), [('miao', 2), ('ciao', 2)]),\n",
       " (('1999', 'Z'), [('ciao', 2), ('aaaa', 1)])]"
      ]
     },
     "execution_count": 214,
     "metadata": {},
     "output_type": "execute_result"
    }
   ],
   "source": [
    "final_out_to_order.groupByKey().mapValues(lambda x: sorted(x, key=lambda y: y[1], reverse=True)[:2]).collect()"
   ]
  },
  {
   "attachments": {},
   "cell_type": "markdown",
   "metadata": {},
   "source": [
    "# Unione"
   ]
  },
  {
   "cell_type": "code",
   "execution_count": 174,
   "metadata": {},
   "outputs": [],
   "source": [
    "content = [\"Id\",\"ProductId\", \"1\", \"AA\"]\n",
    "c1 = [30, 3, 7, 13]\n",
    "c2 = [1,2,3,4]\n",
    "\n",
    "content_rdd = sc.parallelize([content])\n",
    "c1_rdd = sc.parallelize([c1])\n",
    "c2_rdd = sc.parallelize([c2])"
   ]
  },
  {
   "cell_type": "code",
   "execution_count": 175,
   "metadata": {},
   "outputs": [
    {
     "data": {
      "text/plain": [
       "[['Id', 'ProductId', '1', 'AA'], [30, 3, 7, 13], [1, 2, 3, 4]]"
      ]
     },
     "execution_count": 175,
     "metadata": {},
     "output_type": "execute_result"
    }
   ],
   "source": [
    "content_rdd.union(c1_rdd).union(c2_rdd).collect()"
   ]
  },
  {
   "cell_type": "code",
   "execution_count": null,
   "metadata": {},
   "outputs": [],
   "source": []
  }
 ],
 "metadata": {
  "kernelspec": {
   "display_name": "bd",
   "language": "python",
   "name": "python3"
  },
  "language_info": {
   "codemirror_mode": {
    "name": "ipython",
    "version": 3
   },
   "file_extension": ".py",
   "mimetype": "text/x-python",
   "name": "python",
   "nbconvert_exporter": "python",
   "pygments_lexer": "ipython3",
   "version": "3.8.16"
  },
  "orig_nbformat": 4
 },
 "nbformat": 4,
 "nbformat_minor": 2
}
