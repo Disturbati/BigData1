{
 "cells": [
  {
   "cell_type": "code",
   "execution_count": 73,
   "metadata": {},
   "outputs": [],
   "source": [
    "p = {}\n",
    "p[\"1999\"] = {\"A\": (1,\"text\"), \"B\": (10,\"text\"), \"C\": (2,\"text\"), \"D\": (5,\"text\"), \"E\": (6,\"text\"),\"F\": (3,\"text\"), \"G\": (4,\"text\"), \"H\": (8,\"text\"), \"I\": (12,\"text\"), \"L\": (11,\"text\"), \"M\": (13,\"text\"), \"N\": (5,\"text\"), \"O\": (20,\"text\"), \"P\": (26,\"text\")}\n",
    "p[\"2000\"] = {\"A\": (26,\"text\"), \"B\": (25,\"text\"), \"C\": (10,\"text\"), \"D\": (1,\"text\"),\"E\": (3,\"text\"),\"F\": (5,\"text\"),\"G\": (17,\"text\"),\"H\": (7,\"text\"),\"I\": (4,\"text\"),\"L\": (9,\"text\"),\"M\": (3,\"text\"),\"N\": (2,\"text\"),\"O\": (6,\"text\"),\"P\": (8,\"text\")}"
   ]
  },
  {
   "cell_type": "code",
   "execution_count": 10,
   "metadata": {},
   "outputs": [
    {
     "ename": "NameError",
     "evalue": "name 'p' is not defined",
     "output_type": "error",
     "traceback": [
      "\u001b[0;31m---------------------------------------------------------------------------\u001b[0m",
      "\u001b[0;31mNameError\u001b[0m                                 Traceback (most recent call last)",
      "\u001b[1;32m/Users/davidegattini/SourceTreeProj/BigData1/Job1/MapReduce/prova.ipynb Cella 2\u001b[0m in \u001b[0;36m<cell line: 1>\u001b[0;34m()\u001b[0m\n\u001b[0;32m----> <a href='vscode-notebook-cell:/Users/davidegattini/SourceTreeProj/BigData1/Job1/MapReduce/prova.ipynb#W1sZmlsZQ%3D%3D?line=0'>1</a>\u001b[0m p\n",
      "\u001b[0;31mNameError\u001b[0m: name 'p' is not defined"
     ]
    }
   ],
   "source": [
    "p"
   ]
  },
  {
   "cell_type": "code",
   "execution_count": 92,
   "metadata": {},
   "outputs": [
    {
     "data": {
      "text/plain": [
       "{'P': (26, 'text'),\n",
       " 'O': (20, 'text'),\n",
       " 'M': (13, 'text'),\n",
       " 'I': (12, 'text'),\n",
       " 'L': (11, 'text'),\n",
       " 'B': (10, 'text'),\n",
       " 'H': (8, 'text'),\n",
       " 'E': (6, 'text'),\n",
       " 'D': (5, 'text'),\n",
       " 'N': (5, 'text'),\n",
       " 'G': (4, 'text'),\n",
       " 'F': (3, 'text'),\n",
       " 'C': (2, 'text'),\n",
       " 'A': (1, 'text')}"
      ]
     },
     "execution_count": 92,
     "metadata": {},
     "output_type": "execute_result"
    }
   ],
   "source": [
    "{k:v for k,v in sorted(p[\"1999\"].items(), key=lambda elem: elem[1], reverse=True)}"
   ]
  },
  {
   "cell_type": "code",
   "execution_count": 95,
   "metadata": {},
   "outputs": [],
   "source": [
    "o = {}\n",
    "for year in p:\n",
    "    o[year] = {k:v for k,v in sorted(p[year].items(), key=lambda item: item[1], reverse=True)[:10]}"
   ]
  },
  {
   "cell_type": "code",
   "execution_count": 96,
   "metadata": {},
   "outputs": [
    {
     "data": {
      "text/plain": [
       "{'1999': {'P': (26, 'text'),\n",
       "  'O': (20, 'text'),\n",
       "  'M': (13, 'text'),\n",
       "  'I': (12, 'text'),\n",
       "  'L': (11, 'text'),\n",
       "  'B': (10, 'text'),\n",
       "  'H': (8, 'text'),\n",
       "  'E': (6, 'text'),\n",
       "  'D': (5, 'text'),\n",
       "  'N': (5, 'text')},\n",
       " '2000': {'A': (26, 'text'),\n",
       "  'B': (25, 'text'),\n",
       "  'G': (17, 'text'),\n",
       "  'C': (10, 'text'),\n",
       "  'L': (9, 'text'),\n",
       "  'P': (8, 'text'),\n",
       "  'H': (7, 'text'),\n",
       "  'O': (6, 'text'),\n",
       "  'F': (5, 'text'),\n",
       "  'I': (4, 'text')}}"
      ]
     },
     "execution_count": 96,
     "metadata": {},
     "output_type": "execute_result"
    }
   ],
   "source": [
    "o"
   ]
  },
  {
   "cell_type": "code",
   "execution_count": 57,
   "metadata": {},
   "outputs": [
    {
     "name": "stdout",
     "output_type": "stream",
     "text": [
      "miaoo1 12 </br> <br> iac</br>\n"
     ]
    }
   ],
   "source": [
    "c = \"miaoo1 12 </br> <br> iac</br>\"\n",
    "print(c.replace(r\"<.*?>\", \"uu\"))"
   ]
  },
  {
   "cell_type": "code",
   "execution_count": 15,
   "metadata": {},
   "outputs": [
    {
     "data": {
      "text/plain": [
       "'miaoo1,,,. 12,   iac'"
      ]
     },
     "execution_count": 15,
     "metadata": {},
     "output_type": "execute_result"
    }
   ],
   "source": [
    "import re\n",
    "p = re.compile(r\"<.*?>\")\n",
    "c = \"miaoo1,,,. 12, </br> <br> iac</br>\"\n",
    "c = p.sub(\"\",c)\n",
    "c"
   ]
  },
  {
   "cell_type": "code",
   "execution_count": 16,
   "metadata": {},
   "outputs": [
    {
     "data": {
      "text/plain": [
       "'miaoo1     12    iac'"
      ]
     },
     "execution_count": 16,
     "metadata": {},
     "output_type": "execute_result"
    }
   ],
   "source": [
    "import string\n",
    "c = c.translate(str.maketrans(string.punctuation, ' '*len(string.punctuation)))\n",
    "c"
   ]
  },
  {
   "cell_type": "code",
   "execution_count": 6,
   "metadata": {},
   "outputs": [],
   "source": [
    "st = \"ciao     miao \\n ci\\t\""
   ]
  },
  {
   "cell_type": "code",
   "execution_count": 7,
   "metadata": {},
   "outputs": [
    {
     "data": {
      "text/plain": [
       "'ciao miao ci'"
      ]
     },
     "execution_count": 7,
     "metadata": {},
     "output_type": "execute_result"
    }
   ],
   "source": [
    "\" \".join(st.split())"
   ]
  },
  {
   "cell_type": "code",
   "execution_count": 9,
   "metadata": {},
   "outputs": [
    {
     "data": {
      "text/plain": [
       "True"
      ]
     },
     "execution_count": 9,
     "metadata": {},
     "output_type": "execute_result"
    }
   ],
   "source": [
    "len(st) >= 4"
   ]
  },
  {
   "cell_type": "code",
   "execution_count": null,
   "metadata": {},
   "outputs": [],
   "source": []
  },
  {
   "cell_type": "code",
   "execution_count": null,
   "metadata": {},
   "outputs": [],
   "source": []
  },
  {
   "cell_type": "code",
   "execution_count": 11,
   "metadata": {},
   "outputs": [],
   "source": [
    "word = {}\n",
    "word[\"1999\"] = {\"A\": 1, \"B\": 10, \"C\": 2, \"D\": 5, \"E\": 6, \"F\": 3, \"G\": 4, \"H\": 8, \"I\": 12, \"L\": 11, \"M\": 13}\n",
    "word[\"2000\"] = {\"A\": 26, \"B\": 25, \"C\": 10, \"D\": 1, \"E\": 3, \"F\": 5, \"G\": 17, \"H\": 7, \"I\": 4,\"L\": 9, \"M\": 3, \"N\": 2}"
   ]
  },
  {
   "cell_type": "code",
   "execution_count": 12,
   "metadata": {},
   "outputs": [
    {
     "data": {
      "text/plain": [
       "{'1999': {'A': 1,\n",
       "  'B': 10,\n",
       "  'C': 2,\n",
       "  'D': 5,\n",
       "  'E': 6,\n",
       "  'F': 3,\n",
       "  'G': 4,\n",
       "  'H': 8,\n",
       "  'I': 12,\n",
       "  'L': 11,\n",
       "  'M': 13},\n",
       " '2000': {'A': 26,\n",
       "  'B': 25,\n",
       "  'C': 10,\n",
       "  'D': 1,\n",
       "  'E': 3,\n",
       "  'F': 5,\n",
       "  'G': 17,\n",
       "  'H': 7,\n",
       "  'I': 4,\n",
       "  'L': 9,\n",
       "  'M': 3,\n",
       "  'N': 2}}"
      ]
     },
     "execution_count": 12,
     "metadata": {},
     "output_type": "execute_result"
    }
   ],
   "source": [
    "word"
   ]
  },
  {
   "cell_type": "code",
   "execution_count": 13,
   "metadata": {},
   "outputs": [
    {
     "data": {
      "text/plain": [
       "{'M': 13,\n",
       " 'I': 12,\n",
       " 'L': 11,\n",
       " 'B': 10,\n",
       " 'H': 8,\n",
       " 'E': 6,\n",
       " 'D': 5,\n",
       " 'G': 4,\n",
       " 'F': 3,\n",
       " 'C': 2,\n",
       " 'A': 1}"
      ]
     },
     "execution_count": 13,
     "metadata": {},
     "output_type": "execute_result"
    }
   ],
   "source": [
    "{k:v for k,v in sorted(word[\"1999\"].items(), key=lambda elem: elem[1], reverse=True)}"
   ]
  },
  {
   "cell_type": "code",
   "execution_count": 15,
   "metadata": {},
   "outputs": [],
   "source": [
    "o = {}\n",
    "for year in word:\n",
    "    o[year] = {k:v for k,v in sorted(word[year].items(), key=lambda item: item[1], reverse=True)[:10]}"
   ]
  },
  {
   "cell_type": "code",
   "execution_count": 17,
   "metadata": {},
   "outputs": [],
   "source": [
    "o[\"1999\"] = 1"
   ]
  },
  {
   "cell_type": "code",
   "execution_count": 18,
   "metadata": {},
   "outputs": [
    {
     "data": {
      "text/plain": [
       "{'1999': 1,\n",
       " '2000': {'A': 26,\n",
       "  'B': 25,\n",
       "  'G': 17,\n",
       "  'C': 10,\n",
       "  'L': 9,\n",
       "  'H': 7,\n",
       "  'F': 5,\n",
       "  'I': 4,\n",
       "  'E': 3,\n",
       "  'M': 3}}"
      ]
     },
     "execution_count": 18,
     "metadata": {},
     "output_type": "execute_result"
    }
   ],
   "source": [
    "o"
   ]
  },
  {
   "cell_type": "code",
   "execution_count": null,
   "metadata": {},
   "outputs": [],
   "source": []
  }
 ],
 "metadata": {
  "kernelspec": {
   "display_name": "base",
   "language": "python",
   "name": "python3"
  },
  "language_info": {
   "codemirror_mode": {
    "name": "ipython",
    "version": 3
   },
   "file_extension": ".py",
   "mimetype": "text/x-python",
   "name": "python",
   "nbconvert_exporter": "python",
   "pygments_lexer": "ipython3",
   "version": "3.9.12"
  },
  "orig_nbformat": 4
 },
 "nbformat": 4,
 "nbformat_minor": 2
}
