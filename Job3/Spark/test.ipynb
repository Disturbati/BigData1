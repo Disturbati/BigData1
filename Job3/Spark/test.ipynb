{
 "cells": [
  {
   "cell_type": "code",
   "execution_count": 10,
   "metadata": {},
   "outputs": [],
   "source": [
    "import argparse\n",
    "import pyspark\n",
    "from pyspark.sql import SparkSession\n",
    "from pyspark.sql.types import StructType, StructField, StringType, IntegerType\n",
    "from pyspark.sql.functions import col, count, collect_set, size, array, flatten, array_distinct, explode, rand, udf\n",
    "from pyspark.sql.window import Window\n",
    "import itertools"
   ]
  },
  {
   "cell_type": "code",
   "execution_count": 11,
   "metadata": {},
   "outputs": [],
   "source": [
    "spark = SparkSession.builder.getOrCreate()\n",
    "sc = spark.sparkContext\n",
    "\n",
    "rdd_test = [(\"A\", \"Tonio\", 4), (\"B\", \"Tonio\", 4), (\"C\", \"Tonio\", 4), (\"D\", \"Tonio\", 4),\n",
    "            (\"A\", \"Gatto\", 4), (\"B\", \"Gatto\", 4), (\"C\", \"Gatto\", 4), (\"D\", \"Gatto\", 4), (\"E\", \"Gatto\", 4),\n",
    "            (\"A\", \"Chiara\", 4), (\"B\", \"Chiara\", 4), (\"C\", \"Chiara\", 4), (\"E\", \"Chiara\", 4),\n",
    "            (\"A\", \"Daniele\", 4), (\"B\", \"Daniele\", 4), (\"C\", \"Daniele\", 4), (\"D\", \"Daniele\", 4), (\"E\", \"Daniele\", 4),\n",
    "            (\"A\", \"Giulia\", 4), (\"B\", \"Giulia\", 4), (\"C\", \"Giulia\", 4), (\"D\", \"Giulia\", 4), (\"E\", \"Giulia\", 4),\n",
    "            (\"A\", \"Giorgio\", 4), (\"B\", \"Giorgio\", 4), (\"C\", \"Giorgio\", 4), (\"D\", \"Giorgio\", 4), (\"E\", \"Giorgio\", 4), (\"F\", \"Giorgio\", 4), (\"G\", \"Giorgio\", 4), (\"H\", \"Giorgio\", 4),\n",
    "            (\"A\", \"Giovanni\", 4), (\"B\", \"Giovanni\", 4), (\"C\", \"Giovanni\", 4), (\"D\", \"Giovanni\", 4), (\"E\", \"Giovanni\", 4), (\"F\", \"Giovanni\", 4), (\"G\", \"Giovanni\", 4), (\"H\", \"Giovanni\", 4),\n",
    "            (\"A\", \"Giuseppe\", 4), (\"B\", \"Giuseppe\", 4), (\"C\", \"Giuseppe\", 4), (\"D\", \"Giuseppe\", 4), (\"E\", \"Giuseppe\", 4), (\"F\", \"Giuseppe\", 4), (\"G\", \"Giuseppe\", 4), (\"H\", \"Giuseppe\", 4),\n",
    "            (\"A\", \"Giacomo\", 4), (\"B\", \"Giacomo\", 4), (\"C\", \"Giacomo\", 4), (\"D\", \"Giacomo\", 4), (\"E\", \"Giacomo\", 4), (\"F\", \"Giacomo\", 4), (\"G\", \"Giacomo\", 4), (\"H\", \"Giacomo\", 4),\n",
    "            (\"A\", \"Gianluca\", 4), (\"B\", \"Gianluca\", 4), (\"C\", \"Gianluca\", 4), (\"D\", \"Gianluca\", 4), (\"E\", \"Gianluca\", 4),\n",
    "            (\"A\", \"Gianmarco\", 4), (\"B\", \"Gianmarco\", 4), (\"C\", \"Gianmarco\", 4), (\"D\", \"Gianmarco\", 4), (\"E\", \"Gianmarco\", 4),\n",
    "            (\"A\", \"Gianfranco\", 4), (\"B\", \"Gianfranco\", 4), (\"C\", \"Gianfranco\", 4), (\"D\", \"Gianfranco\", 4), (\"E\", \"Gianfranco\", 4), (\"F\", \"Gianfranco\", 4), (\"G\", \"Gianfranco\", 4), (\"H\", \"Gianfranco\", 4),\n",
    "            (\"A\", \"Giancarlo\", 4), (\"B\", \"Giancarlo\", 4), (\"C\", \"Giancarlo\", 4), (\"D\", \"Giancarlo\", 4), (\"E\", \"Giancarlo\", 4), (\"F\", \"Giancarlo\", 4), (\"G\", \"Giancarlo\", 4), (\"H\", \"Giancarlo\", 4)\n",
    "        ]\n",
    "\n",
    "rdd = [(\"A\", \"1\", 4), (\"C\", \"1\", 4), (\"B\", \"1\", 4), (\"C\", \"1\", 2), (\"D\", \"1\", 4),\n",
    "        (\"B\", \"2\", 4), (\"C\", \"2\", 4), (\"A\", \"2\", 4), \n",
    "        (\"A\", \"3\", 4), (\"C\", \"3\", 4),\n",
    "        (\"A\", \"4\", 4), (\"B\", \"4\", 4), (\"C\", \"4\", 4),\n",
    "        (\"A\", \"5\", 4), (\"B\", \"5\", 4), (\"C\", \"5\", 4),\n",
    "        (\"A\", \"6\", 4), (\"B\", \"6\", 4), (\"C\", \"6\", 4), (\"D\", \"6\", 4), (\"E\", \"6\", 4), (\"F\", \"6\", 4),\n",
    "        (\"A\", \"7\", 4), (\"B\", \"7\", 4), (\"C\", \"7\", 4),\n",
    "        (\"A\", \"8\", 4), (\"B\", \"8\", 4), (\"C\", \"8\", 4),\n",
    "        (\"A\", \"9\", 4), (\"B\", \"9\", 4), (\"C\", \"9\", 4),\n",
    "        (\"A\", \"10\", 4), (\"B\", \"10\", 4), (\"C\", \"10\", 4),\n",
    "        (\"A\", \"11\", 4), (\"B\", \"11\", 4), (\"C\", \"11\", 4), (\"D\", \"11\", 4),\n",
    "        (\"A\", \"12\", 4), (\"B\", \"12\", 4), (\"C\", \"12\", 4), (\"D\", \"12\", 4),\n",
    "        (\"A\", \"13\", 4), (\"B\", \"13\", 4), (\"C\", \"13\", 4), (\"D\", \"13\", 4), (\"E\", \"13\", 4),\n",
    "        (\"A\", \"14\", 4), (\"B\", \"14\", 4), (\"C\", \"14\", 4), (\"D\", \"14\", 4), (\"E\", \"14\", 4),\n",
    "        (\"A\", \"15\", 4), (\"B\", \"15\", 4), (\"C\", \"15\", 4), (\"D\", \"15\", 4), (\"E\", \"15\", 4),\n",
    "        (\"A\", \"16\", 4), (\"B\", \"16\", 4), (\"C\", \"16\", 4), (\"D\", \"16\", 4), (\"E\", \"16\", 4), (\"F\", \"16\", 4)\n",
    "        ]\n",
    "schema = StructType([\n",
    "    StructField(\"productId\", StringType(), True),\n",
    "    StructField(\"userId\", StringType(), True),\n",
    "    StructField(\"score\", IntegerType(), True)\n",
    "])\n",
    "\n",
    "input_df = spark.createDataFrame(rdd_test, schema=schema).cache()"
   ]
  },
  {
   "cell_type": "code",
   "execution_count": 12,
   "metadata": {},
   "outputs": [
    {
     "name": "stdout",
     "output_type": "stream",
     "text": [
      "+---------+-------+-----+\n",
      "|productId| userId|score|\n",
      "+---------+-------+-----+\n",
      "|        A|  Tonio|    4|\n",
      "|        B|  Tonio|    4|\n",
      "|        C|  Tonio|    4|\n",
      "|        D|  Tonio|    4|\n",
      "|        A|  Gatto|    4|\n",
      "|        B|  Gatto|    4|\n",
      "|        C|  Gatto|    4|\n",
      "|        D|  Gatto|    4|\n",
      "|        E|  Gatto|    4|\n",
      "|        A| Chiara|    4|\n",
      "|        B| Chiara|    4|\n",
      "|        C| Chiara|    4|\n",
      "|        E| Chiara|    4|\n",
      "|        A|Daniele|    4|\n",
      "|        B|Daniele|    4|\n",
      "|        C|Daniele|    4|\n",
      "|        D|Daniele|    4|\n",
      "|        E|Daniele|    4|\n",
      "|        A| Giulia|    4|\n",
      "|        B| Giulia|    4|\n",
      "+---------+-------+-----+\n",
      "only showing top 20 rows\n",
      "\n"
     ]
    }
   ],
   "source": [
    "input_df.show()"
   ]
  },
  {
   "cell_type": "code",
   "execution_count": 13,
   "metadata": {},
   "outputs": [],
   "source": [
    "input_df = input_df.filter(input_df[\"score\"] >= 4)"
   ]
  },
  {
   "cell_type": "code",
   "execution_count": 14,
   "metadata": {},
   "outputs": [
    {
     "name": "stdout",
     "output_type": "stream",
     "text": [
      "+-------+----------+---------+\n",
      "|userId1|   userId2|productId|\n",
      "+-------+----------+---------+\n",
      "|  Gatto|     Tonio|        A|\n",
      "|  Gatto|    Giulia|        A|\n",
      "|  Gatto|   Giorgio|        A|\n",
      "|  Gatto|  Giovanni|        A|\n",
      "|  Gatto|  Giuseppe|        A|\n",
      "|  Gatto|   Giacomo|        A|\n",
      "|  Gatto|  Gianluca|        A|\n",
      "|  Gatto| Gianmarco|        A|\n",
      "|  Gatto|Gianfranco|        A|\n",
      "|  Gatto| Giancarlo|        A|\n",
      "| Chiara|     Tonio|        A|\n",
      "| Chiara|     Gatto|        A|\n",
      "| Chiara|   Daniele|        A|\n",
      "| Chiara|    Giulia|        A|\n",
      "| Chiara|   Giorgio|        A|\n",
      "| Chiara|  Giovanni|        A|\n",
      "| Chiara|  Giuseppe|        A|\n",
      "| Chiara|   Giacomo|        A|\n",
      "| Chiara|  Gianluca|        A|\n",
      "| Chiara| Gianmarco|        A|\n",
      "+-------+----------+---------+\n",
      "only showing top 20 rows\n",
      "\n"
     ]
    }
   ],
   "source": [
    "joined_df = input_df.alias(\"df1\").join(input_df.alias(\"df2\"), [\"productId\"]) \\\n",
    "    .where(col(\"df1.userId\") < col(\"df2.userId\")) \\\n",
    "    .select(col(\"df1.userId\").alias(\"userId1\"), col(\"df2.userId\").alias(\"userId2\"), col(\"df1.productId\").alias(\"productId\")) \\\n",
    "    .distinct() \n",
    "\n",
    "joined_df.show()"
   ]
  },
  {
   "cell_type": "code",
   "execution_count": 15,
   "metadata": {},
   "outputs": [
    {
     "name": "stdout",
     "output_type": "stream",
     "text": [
      "+-------+----------+---------+\n",
      "|userId1|   userId2|productId|\n",
      "+-------+----------+---------+\n",
      "|  Gatto| Giancarlo|        A|\n",
      "|  Gatto|Gianfranco|        A|\n",
      "|  Gatto| Gianmarco|        A|\n",
      "|  Gatto|  Gianluca|        A|\n",
      "|  Gatto|   Giacomo|        A|\n",
      "|  Gatto|  Giuseppe|        A|\n",
      "|  Gatto|  Giovanni|        A|\n",
      "|  Gatto|   Giorgio|        A|\n",
      "|  Gatto|    Giulia|        A|\n",
      "|  Gatto|     Tonio|        A|\n",
      "|  Gatto| Giancarlo|        B|\n",
      "|  Gatto|Gianfranco|        B|\n",
      "|  Gatto| Gianmarco|        B|\n",
      "|  Gatto|  Gianluca|        B|\n",
      "|  Gatto|   Giacomo|        B|\n",
      "|  Gatto|  Giuseppe|        B|\n",
      "|  Gatto|  Giovanni|        B|\n",
      "|  Gatto|   Giorgio|        B|\n",
      "|  Gatto|    Giulia|        B|\n",
      "|  Gatto|     Tonio|        B|\n",
      "+-------+----------+---------+\n",
      "only showing top 20 rows\n",
      "\n"
     ]
    }
   ],
   "source": [
    "joined_df = input_df.alias(\"df1\").join(input_df.alias(\"df2\"), [\"productId\"]) \\\n",
    "    .where(col(\"df1.userId\") < col(\"df2.userId\")) \\\n",
    "    .select(col(\"df1.userId\").alias(\"userId1\"), col(\"df2.userId\").alias(\"userId2\"), col(\"df1.productId\").alias(\"productId\")) \\\n",
    "\n",
    "joined_df.show()"
   ]
  },
  {
   "cell_type": "code",
   "execution_count": 16,
   "metadata": {},
   "outputs": [
    {
     "name": "stdout",
     "output_type": "stream",
     "text": [
      "+---------+---------+----------------+\n",
      "|  userId1|  userId2|productsAffinity|\n",
      "+---------+---------+----------------+\n",
      "|  Giacomo| Gianluca|       [C, E, B]|\n",
      "|  Giacomo| Gianluca|       [C, E, A]|\n",
      "|  Giacomo| Gianluca|       [C, E, D]|\n",
      "|  Giacomo| Gianluca|       [C, B, A]|\n",
      "|  Giacomo| Gianluca|       [C, B, D]|\n",
      "|  Giacomo| Gianluca|       [C, A, D]|\n",
      "|  Giacomo| Gianluca|       [E, B, A]|\n",
      "|  Giacomo| Gianluca|       [E, B, D]|\n",
      "|  Giacomo| Gianluca|       [E, A, D]|\n",
      "|  Giacomo| Gianluca|       [B, A, D]|\n",
      "|  Giacomo| Gianluca|    [C, E, B, A]|\n",
      "|  Giacomo| Gianluca|    [C, E, B, D]|\n",
      "|  Giacomo| Gianluca|    [C, E, A, D]|\n",
      "|  Giacomo| Gianluca|    [C, B, A, D]|\n",
      "|  Giacomo| Gianluca|    [E, B, A, D]|\n",
      "|  Giacomo| Gianluca| [C, E, B, A, D]|\n",
      "|Giancarlo|Gianmarco|       [C, E, B]|\n",
      "|Giancarlo|Gianmarco|       [C, E, A]|\n",
      "|Giancarlo|Gianmarco|       [C, E, D]|\n",
      "|Giancarlo|Gianmarco|       [C, B, A]|\n",
      "+---------+---------+----------------+\n",
      "only showing top 20 rows\n",
      "\n"
     ]
    }
   ],
   "source": [
    "from pyspark.sql.types import ArrayType, StringType\n",
    "\n",
    "\n",
    "couple_df = joined_df.groupBy(\"userId1\", \"userId2\").agg(collect_set(\"productId\").alias(\"productsAffinity\")) \\\n",
    "    .where(size(col(\"productsAffinity\")) >= 3) \\\n",
    "    .select(\"userId1\", \"userId2\", \"productsAffinity\") \\\n",
    "    .cache()\n",
    "\n",
    "@udf(ArrayType(ArrayType(StringType())))\n",
    "def get_combinations(values):\n",
    "    list = []\n",
    "    for i in range(3, len(values) + 1):\n",
    "        list.extend(itertools.combinations(values, i))\n",
    "    return list\n",
    "\n",
    "\n",
    "couple_df = couple_df.withColumn(\"productsAffinity\", explode(get_combinations(col(\"productsAffinity\"))))\n",
    "\n",
    "couple_df.show()"
   ]
  },
  {
   "cell_type": "code",
   "execution_count": 17,
   "metadata": {},
   "outputs": [
    {
     "name": "stderr",
     "output_type": "stream",
     "text": [
      "[Stage 59:================================>                    (122 + 10) / 200]\r"
     ]
    },
    {
     "name": "stdout",
     "output_type": "stream",
     "text": [
      "+------------------+--------------------+\n",
      "|  productsAffinity|          groupUsers|\n",
      "+------------------+--------------------+\n",
      "|         [B, A, D]|[Gianluca, Giorgi...|\n",
      "|         [C, A, D]|[Gianluca, Giorgi...|\n",
      "|         [C, B, A]|[Gianluca, Giorgi...|\n",
      "|      [C, B, A, D]|[Gianluca, Giorgi...|\n",
      "|         [C, B, D]|[Gianluca, Giorgi...|\n",
      "|         [C, E, A]|[Gianluca, Giorgi...|\n",
      "|      [C, E, A, D]|[Gianluca, Giorgi...|\n",
      "|         [C, E, B]|[Gianluca, Giorgi...|\n",
      "|      [C, E, B, A]|[Gianluca, Giorgi...|\n",
      "|   [C, E, B, A, D]|[Gianluca, Giorgi...|\n",
      "|      [C, E, B, D]|[Gianluca, Giorgi...|\n",
      "|         [C, E, D]|[Gianluca, Giorgi...|\n",
      "|         [C, E, G]|[Giorgio, Giancar...|\n",
      "|      [C, E, G, A]|[Giorgio, Giancar...|\n",
      "|   [C, E, G, A, D]|[Giorgio, Giancar...|\n",
      "|      [C, E, G, B]|[Giorgio, Giancar...|\n",
      "|   [C, E, G, B, A]|[Giorgio, Giancar...|\n",
      "|[C, E, G, B, A, D]|[Giorgio, Giancar...|\n",
      "|   [C, E, G, B, D]|[Giorgio, Giancar...|\n",
      "|      [C, E, G, D]|[Giorgio, Giancar...|\n",
      "+------------------+--------------------+\n",
      "only showing top 20 rows\n",
      "\n"
     ]
    },
    {
     "name": "stderr",
     "output_type": "stream",
     "text": [
      "                                                                                \r"
     ]
    }
   ],
   "source": [
    "group_df = couple_df.withColumn(\n",
    "    \"userId\",\n",
    "    array(\"userId1\", \"userId2\")\n",
    ").groupBy(\"productsAffinity\").agg(collect_set(\"userId\").alias(\"groupUsers\"))\n",
    "\n",
    "group_df.show()"
   ]
  },
  {
   "cell_type": "code",
   "execution_count": 18,
   "metadata": {},
   "outputs": [
    {
     "name": "stderr",
     "output_type": "stream",
     "text": [
      "                                                                                \r"
     ]
    },
    {
     "name": "stdout",
     "output_type": "stream",
     "text": [
      "+----------------+--------------------+\n",
      "|productsAffinity|          groupUsers|\n",
      "+----------------+--------------------+\n",
      "|       [B, A, D]|[Gianluca, Giorgi...|\n",
      "|       [C, A, D]|[Gianluca, Giorgi...|\n",
      "|       [C, B, A]|[Gianluca, Giorgi...|\n",
      "|    [C, B, A, D]|[Gianluca, Giorgi...|\n",
      "|       [C, B, D]|[Gianluca, Giorgi...|\n",
      "|       [C, E, A]|[Gianluca, Giorgi...|\n",
      "|    [C, E, A, D]|[Gianluca, Giorgi...|\n",
      "|       [C, E, B]|[Gianluca, Giorgi...|\n",
      "|    [C, E, B, A]|[Gianluca, Giorgi...|\n",
      "| [C, E, B, A, D]|[Gianluca, Giorgi...|\n",
      "|    [C, E, B, D]|[Gianluca, Giorgi...|\n",
      "|       [C, E, D]|[Gianluca, Giorgi...|\n",
      "|       [E, A, D]|[Gianluca, Giorgi...|\n",
      "|       [E, B, A]|[Gianluca, Giorgi...|\n",
      "|    [E, B, A, D]|[Gianluca, Giorgi...|\n",
      "|       [E, B, D]|[Gianluca, Giorgi...|\n",
      "|       [C, E, G]|[Giorgio, Giancar...|\n",
      "|    [C, E, G, A]|[Giorgio, Giancar...|\n",
      "| [C, E, G, A, D]|[Giorgio, Giancar...|\n",
      "|    [C, E, G, B]|[Giorgio, Giancar...|\n",
      "+----------------+--------------------+\n",
      "only showing top 20 rows\n",
      "\n"
     ]
    },
    {
     "name": "stderr",
     "output_type": "stream",
     "text": [
      "                                                                                \r"
     ]
    },
    {
     "name": "stdout",
     "output_type": "stream",
     "text": [
      "+------------------+--------------------+\n",
      "|  productsAffinity|          groupUsers|\n",
      "+------------------+--------------------+\n",
      "|[F, C, E, B, A, D]|[Giorgio, Giancar...|\n",
      "|   [F, C, E, B, A]|[Giorgio, Giancar...|\n",
      "|      [F, G, H, A]|[Giorgio, Giancar...|\n",
      "|         [H, B, A]|[Giorgio, Giancar...|\n",
      "|   [F, E, H, B, A]|[Giorgio, Giancar...|\n",
      "|      [F, E, B, D]|[Giorgio, Giancar...|\n",
      "|         [F, B, D]|[Giorgio, Giancar...|\n",
      "|      [F, C, H, B]|[Giorgio, Giancar...|\n",
      "|   [F, C, H, A, D]|[Giorgio, Giancar...|\n",
      "|   [C, E, G, B, D]|[Giorgio, Giancar...|\n",
      "|      [C, E, G, H]|[Giorgio, Giancar...|\n",
      "|[F, E, G, H, B, D]|[Giorgio, Giancar...|\n",
      "|      [E, B, A, D]|[Gianluca, Giorgi...|\n",
      "|   [F, E, G, H, B]|[Giorgio, Giancar...|\n",
      "|   [F, C, E, H, B]|[Giorgio, Giancar...|\n",
      "|      [F, E, G, B]|[Giorgio, Giancar...|\n",
      "|      [C, B, A, D]|[Gianluca, Giorgi...|\n",
      "|   [F, G, B, A, D]|[Giorgio, Giancar...|\n",
      "|      [C, G, H, D]|[Giorgio, Giancar...|\n",
      "|[C, E, G, H, B, A]|[Giorgio, Giancar...|\n",
      "+------------------+--------------------+\n",
      "only showing top 20 rows\n",
      "\n",
      "+----------------+--------------------+\n",
      "|productsAffinity|          groupUsers|\n",
      "+----------------+--------------------+\n",
      "|       [B, A, D]|[Gianluca, Giorgi...|\n",
      "|       [C, A, D]|[Gianluca, Giorgi...|\n",
      "|       [C, B, A]|[Gianluca, Giorgi...|\n",
      "|    [C, B, A, D]|[Gianluca, Giorgi...|\n",
      "|       [C, B, D]|[Gianluca, Giorgi...|\n",
      "|       [C, E, A]|[Gianluca, Giorgi...|\n",
      "|    [C, E, A, D]|[Gianluca, Giorgi...|\n",
      "|       [C, E, B]|[Gianluca, Giorgi...|\n",
      "|    [C, E, B, A]|[Gianluca, Giorgi...|\n",
      "| [C, E, B, A, D]|[Gianluca, Giorgi...|\n",
      "|    [C, E, B, D]|[Gianluca, Giorgi...|\n",
      "|       [C, E, D]|[Gianluca, Giorgi...|\n",
      "|       [E, A, D]|[Gianluca, Giorgi...|\n",
      "|       [E, B, A]|[Gianluca, Giorgi...|\n",
      "|    [E, B, A, D]|[Gianluca, Giorgi...|\n",
      "|       [E, B, D]|[Gianluca, Giorgi...|\n",
      "|       [C, E, G]|[Giorgio, Giancar...|\n",
      "|    [C, E, G, A]|[Giorgio, Giancar...|\n",
      "| [C, E, G, A, D]|[Giorgio, Giancar...|\n",
      "|    [C, E, G, B]|[Giorgio, Giancar...|\n",
      "+----------------+--------------------+\n",
      "only showing top 20 rows\n",
      "\n"
     ]
    },
    {
     "name": "stderr",
     "output_type": "stream",
     "text": [
      "                                                                                \r"
     ]
    }
   ],
   "source": [
    "group_df.orderBy(col(\"groupUsers\")[0]).show()\n",
    "\n",
    "shuffled_df = group_df.orderBy(rand(1))\n",
    "shuffled_df.show()\n",
    "\n",
    "shuffled_df.orderBy(col(\"groupUsers\")[0]).show()"
   ]
  }
 ],
 "metadata": {
  "kernelspec": {
   "display_name": "BD",
   "language": "python",
   "name": "python3"
  },
  "language_info": {
   "codemirror_mode": {
    "name": "ipython",
    "version": 3
   },
   "file_extension": ".py",
   "mimetype": "text/x-python",
   "name": "python",
   "nbconvert_exporter": "python",
   "pygments_lexer": "ipython3",
   "version": "3.9.16"
  },
  "orig_nbformat": 4
 },
 "nbformat": 4,
 "nbformat_minor": 2
}
