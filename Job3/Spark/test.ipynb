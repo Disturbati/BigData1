{
 "cells": [
  {
   "cell_type": "code",
   "execution_count": 106,
   "metadata": {},
   "outputs": [],
   "source": [
    "import argparse\n",
    "import pyspark\n",
    "from pyspark.sql import SparkSession\n",
    "from pyspark.sql.types import StructType, StructField, StringType, IntegerType\n",
    "from pyspark.sql.functions import col, count, collect_set, size, array, flatten, array_distinct, explode, rand\n",
    "from pyspark.sql.window import Window"
   ]
  },
  {
   "cell_type": "code",
   "execution_count": 107,
   "metadata": {},
   "outputs": [],
   "source": [
    "spark = SparkSession.builder.getOrCreate()\n",
    "sc = spark.sparkContext\n",
    "\n",
    "rdd = [(\"A\", \"1\", 4), (\"C\", \"1\", 4), (\"B\", \"1\", 4), (\"C\", \"1\", 2), (\"D\", \"1\", 4),\n",
    "        (\"B\", \"2\", 4), (\"C\", \"2\", 4), (\"A\", \"2\", 4), \n",
    "        (\"A\", \"3\", 4), (\"C\", \"3\", 4),\n",
    "        (\"A\", \"4\", 4), (\"B\", \"4\", 4), (\"C\", \"4\", 4),\n",
    "        (\"A\", \"5\", 4), (\"B\", \"5\", 4), (\"C\", \"5\", 4),\n",
    "        (\"A\", \"6\", 4), (\"B\", \"6\", 4), (\"C\", \"6\", 4), (\"D\", \"6\", 4), (\"E\", \"6\", 4), (\"F\", \"6\", 4),\n",
    "        (\"A\", \"7\", 4), (\"B\", \"7\", 4), (\"C\", \"7\", 4),\n",
    "        (\"A\", \"8\", 4), (\"B\", \"8\", 4), (\"C\", \"8\", 4),\n",
    "        (\"A\", \"9\", 4), (\"B\", \"9\", 4), (\"C\", \"9\", 4),\n",
    "        (\"A\", \"10\", 4), (\"B\", \"10\", 4), (\"C\", \"10\", 4),\n",
    "        (\"A\", \"11\", 4), (\"B\", \"11\", 4), (\"C\", \"11\", 4), (\"D\", \"11\", 4),\n",
    "        (\"A\", \"12\", 4), (\"B\", \"12\", 4), (\"C\", \"12\", 4), (\"D\", \"12\", 4),\n",
    "        (\"A\", \"13\", 4), (\"B\", \"13\", 4), (\"C\", \"13\", 4), (\"D\", \"13\", 4), (\"E\", \"13\", 4),\n",
    "        (\"A\", \"14\", 4), (\"B\", \"14\", 4), (\"C\", \"14\", 4), (\"D\", \"14\", 4), (\"E\", \"14\", 4),\n",
    "        (\"A\", \"15\", 4), (\"B\", \"15\", 4), (\"C\", \"15\", 4), (\"D\", \"15\", 4), (\"E\", \"15\", 4),\n",
    "        (\"A\", \"16\", 4), (\"B\", \"16\", 4), (\"C\", \"16\", 4), (\"D\", \"16\", 4), (\"E\", \"16\", 4), (\"F\", \"16\", 4)\n",
    "        ]\n",
    "schema = StructType([\n",
    "    StructField(\"productId\", StringType(), True),\n",
    "    StructField(\"userId\", StringType(), True),\n",
    "    StructField(\"score\", IntegerType(), True)\n",
    "])\n",
    "\n",
    "input_df = spark.createDataFrame(rdd, schema=schema).cache()"
   ]
  },
  {
   "cell_type": "code",
   "execution_count": 108,
   "metadata": {},
   "outputs": [
    {
     "name": "stdout",
     "output_type": "stream",
     "text": [
      "+---------+------+-----+\n",
      "|productId|userId|score|\n",
      "+---------+------+-----+\n",
      "|        A|     1|    4|\n",
      "|        C|     1|    4|\n",
      "|        B|     1|    4|\n",
      "|        C|     1|    2|\n",
      "|        D|     1|    4|\n",
      "|        B|     2|    4|\n",
      "|        C|     2|    4|\n",
      "|        A|     2|    4|\n",
      "|        A|     3|    4|\n",
      "|        C|     3|    4|\n",
      "|        A|     4|    4|\n",
      "|        B|     4|    4|\n",
      "|        C|     4|    4|\n",
      "|        A|     5|    4|\n",
      "|        B|     5|    4|\n",
      "|        C|     5|    4|\n",
      "|        A|     6|    4|\n",
      "|        B|     6|    4|\n",
      "|        C|     6|    4|\n",
      "|        D|     6|    4|\n",
      "+---------+------+-----+\n",
      "only showing top 20 rows\n",
      "\n"
     ]
    }
   ],
   "source": [
    "input_df.show()"
   ]
  },
  {
   "cell_type": "code",
   "execution_count": 109,
   "metadata": {},
   "outputs": [
    {
     "name": "stdout",
     "output_type": "stream",
     "text": [
      "+---------+------+-----+\n",
      "|productId|userId|score|\n",
      "+---------+------+-----+\n",
      "|        A|     1|    4|\n",
      "|        C|     1|    4|\n",
      "|        B|     1|    4|\n",
      "|        D|     1|    4|\n",
      "|        B|     2|    4|\n",
      "|        C|     2|    4|\n",
      "|        A|     2|    4|\n",
      "|        A|     3|    4|\n",
      "|        C|     3|    4|\n",
      "|        A|     4|    4|\n",
      "|        B|     4|    4|\n",
      "|        C|     4|    4|\n",
      "|        A|     5|    4|\n",
      "|        B|     5|    4|\n",
      "|        C|     5|    4|\n",
      "|        A|     6|    4|\n",
      "|        B|     6|    4|\n",
      "|        C|     6|    4|\n",
      "|        D|     6|    4|\n",
      "|        E|     6|    4|\n",
      "+---------+------+-----+\n",
      "only showing top 20 rows\n",
      "\n"
     ]
    }
   ],
   "source": [
    "input_df = input_df.filter(input_df[\"score\"] >= 4)\n",
    "input_df.show()"
   ]
  },
  {
   "cell_type": "code",
   "execution_count": 110,
   "metadata": {},
   "outputs": [
    {
     "name": "stdout",
     "output_type": "stream",
     "text": [
      "+-------+-------+---------+\n",
      "|userId1|userId2|productId|\n",
      "+-------+-------+---------+\n",
      "|      1|      2|        A|\n",
      "|      1|      3|        A|\n",
      "|      1|      4|        A|\n",
      "|      1|      5|        A|\n",
      "|      1|      6|        A|\n",
      "|      1|      7|        A|\n",
      "|      1|      8|        A|\n",
      "|      1|      9|        A|\n",
      "|      1|     10|        A|\n",
      "|      1|     11|        A|\n",
      "|      1|     12|        A|\n",
      "|      1|     13|        A|\n",
      "|      1|     14|        A|\n",
      "|      1|     15|        A|\n",
      "|      1|     16|        A|\n",
      "|      2|      3|        A|\n",
      "|      2|      4|        A|\n",
      "|      2|      5|        A|\n",
      "|      2|      6|        A|\n",
      "|      2|      7|        A|\n",
      "+-------+-------+---------+\n",
      "only showing top 20 rows\n",
      "\n"
     ]
    }
   ],
   "source": [
    "joined_df = input_df.alias(\"df1\").join(input_df.alias(\"df2\"), [\"productId\"]) \\\n",
    "    .where(col(\"df1.userId\") < col(\"df2.userId\")) \\\n",
    "    .select(col(\"df1.userId\").alias(\"userId1\"), col(\"df2.userId\").alias(\"userId2\"), col(\"df1.productId\").alias(\"productId\")) \\\n",
    "    .distinct() \n",
    "\n",
    "joined_df.show()"
   ]
  },
  {
   "cell_type": "code",
   "execution_count": 111,
   "metadata": {},
   "outputs": [
    {
     "name": "stdout",
     "output_type": "stream",
     "text": [
      "+-------+-------+----------------+\n",
      "|userId1|userId2|productsAffinity|\n",
      "+-------+-------+----------------+\n",
      "|     10|      5|       [C, B, A]|\n",
      "|     11|     14|    [C, B, A, D]|\n",
      "|     15|      8|       [C, B, A]|\n",
      "|     10|     16|       [C, B, A]|\n",
      "|     12|      7|       [C, B, A]|\n",
      "|     16|      2|       [C, B, A]|\n",
      "|     15|      2|       [C, B, A]|\n",
      "|      1|      4|       [C, B, A]|\n",
      "|      1|     11|    [C, B, A, D]|\n",
      "|      4|      6|       [C, B, A]|\n",
      "|     12|     16|    [C, B, A, D]|\n",
      "|      2|      8|       [C, B, A]|\n",
      "|     11|      7|       [C, B, A]|\n",
      "|     13|     14| [C, E, B, A, D]|\n",
      "|     13|      7|       [C, B, A]|\n",
      "|     11|     16|    [C, B, A, D]|\n",
      "|     14|      5|       [C, B, A]|\n",
      "|     10|     13|       [C, B, A]|\n",
      "|      4|      8|       [C, B, A]|\n",
      "|      6|      8|       [C, B, A]|\n",
      "+-------+-------+----------------+\n",
      "only showing top 20 rows\n",
      "\n"
     ]
    }
   ],
   "source": [
    "couple_df = joined_df.groupBy(\"userId1\", \"userId2\").agg(collect_set(\"productId\").alias(\"productsAffinity\")) \\\n",
    "    .where(size(col(\"productsAffinity\")) >= 3) \\\n",
    "    .select(\"userId1\", \"userId2\", \"productsAffinity\") \\\n",
    "    .cache()\n",
    "\n",
    "couple_df.show()"
   ]
  },
  {
   "cell_type": "code",
   "execution_count": 112,
   "metadata": {},
   "outputs": [
    {
     "name": "stdout",
     "output_type": "stream",
     "text": [
      "+------------------+--------------------+\n",
      "|  productsAffinity|          groupUsers|\n",
      "+------------------+--------------------+\n",
      "|         [C, B, A]|[1, 15, 2, 5, 8, ...|\n",
      "|      [C, B, A, D]|[13, 12, 1, 15, 1...|\n",
      "|   [C, E, B, A, D]| [13, 15, 16, 14, 6]|\n",
      "|[F, C, E, B, A, D]|             [16, 6]|\n",
      "+------------------+--------------------+\n",
      "\n"
     ]
    }
   ],
   "source": [
    "group_df = couple_df.withColumn(\n",
    "    \"userId\",\n",
    "    explode(array(\"userId1\", \"userId2\"))\n",
    ").groupBy(\"productsAffinity\").agg(collect_set(\"userId\").alias(\"groupUsers\"))\n",
    "\n",
    "group_df.show()"
   ]
  },
  {
   "cell_type": "code",
   "execution_count": 116,
   "metadata": {},
   "outputs": [
    {
     "name": "stdout",
     "output_type": "stream",
     "text": [
      "+------------------+--------------------+\n",
      "|  productsAffinity|          groupUsers|\n",
      "+------------------+--------------------+\n",
      "|         [C, B, A]|[1, 15, 2, 5, 8, ...|\n",
      "|      [C, B, A, D]|[13, 12, 1, 15, 1...|\n",
      "|   [C, E, B, A, D]| [13, 15, 16, 14, 6]|\n",
      "|[F, C, E, B, A, D]|             [16, 6]|\n",
      "+------------------+--------------------+\n",
      "\n",
      "+------------------+--------------------+\n",
      "|  productsAffinity|          groupUsers|\n",
      "+------------------+--------------------+\n",
      "|      [C, B, A, D]|[13, 12, 1, 15, 1...|\n",
      "|[F, C, E, B, A, D]|             [16, 6]|\n",
      "|   [C, E, B, A, D]| [13, 15, 16, 14, 6]|\n",
      "|         [C, B, A]|[1, 15, 2, 5, 8, ...|\n",
      "+------------------+--------------------+\n",
      "\n",
      "+------------------+--------------------+\n",
      "|  productsAffinity|          groupUsers|\n",
      "+------------------+--------------------+\n",
      "|         [C, B, A]|[1, 15, 2, 5, 8, ...|\n",
      "|      [C, B, A, D]|[13, 12, 1, 15, 1...|\n",
      "|   [C, E, B, A, D]| [13, 15, 16, 14, 6]|\n",
      "|[F, C, E, B, A, D]|             [16, 6]|\n",
      "+------------------+--------------------+\n",
      "\n"
     ]
    }
   ],
   "source": [
    "group_df.orderBy(col(\"groupUsers\")[0]).show()\n",
    "\n",
    "shuffled_df = group_df.orderBy(rand(1))\n",
    "shuffled_df.show()\n",
    "\n",
    "shuffled_df.orderBy(col(\"groupUsers\")[0]).show()"
   ]
  }
 ],
 "metadata": {
  "kernelspec": {
   "display_name": "BD",
   "language": "python",
   "name": "python3"
  },
  "language_info": {
   "codemirror_mode": {
    "name": "ipython",
    "version": 3
   },
   "file_extension": ".py",
   "mimetype": "text/x-python",
   "name": "python",
   "nbconvert_exporter": "python",
   "pygments_lexer": "ipython3",
   "version": "3.9.16"
  },
  "orig_nbformat": 4
 },
 "nbformat": 4,
 "nbformat_minor": 2
}
